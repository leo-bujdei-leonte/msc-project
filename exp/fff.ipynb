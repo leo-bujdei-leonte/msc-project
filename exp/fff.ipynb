{
 "cells": [
  {
   "cell_type": "code",
   "execution_count": 22,
   "metadata": {},
   "outputs": [],
   "source": [
    "# @title imports\n",
    "\n",
    "import torch\n",
    "import torch.nn as nn\n",
    "import torch.nn.functional as F\n",
    "from torch.autograd import Variable\n",
    "\n",
    "from skimage.segmentation import slic, mark_boundaries\n",
    "\n",
    "import torchvision\n",
    "import torchvision.models as models\n",
    "\n",
    "import math\n",
    "\n",
    "import os\n",
    "\n",
    "from torch.utils.data import random_split, DataLoader\n",
    "from torch.optim import Adam\n",
    "from torch.nn import CrossEntropyLoss\n",
    "\n",
    "from torchvision.datasets import MNIST, CIFAR100\n",
    "from torchvision.transforms import Compose, Resize, ToTensor, Normalize\n",
    "\n",
    "import pickle\n",
    "\n",
    "import matplotlib.pyplot as plt\n",
    "\n",
    "from skimage.segmentation import slic\n",
    "from skimage.measure import regionprops\n",
    "from skimage import filters, graph\n",
    "import torch\n",
    "import numpy as np\n",
    "from torch_geometric.utils.convert import from_networkx\n",
    "from torchvision.transforms import Resize"
   ]
  },
  {
   "cell_type": "code",
   "execution_count": 3,
   "metadata": {},
   "outputs": [
    {
     "name": "stdout",
     "output_type": "stream",
     "text": [
      "Files already downloaded and verified\n"
     ]
    }
   ],
   "source": [
    "transform = Compose([\n",
    "    Resize((32, 32)),\n",
    "    ToTensor(),\n",
    "    Normalize(0, 1),\n",
    "])\n",
    "dataset = CIFAR100(root=\"../data/image/CIFAR100\", download=True, transform=transform)"
   ]
  },
  {
   "cell_type": "markdown",
   "metadata": {},
   "source": [
    "# SLIC"
   ]
  },
  {
   "cell_type": "code",
   "execution_count": 88,
   "metadata": {},
   "outputs": [
    {
     "data": {
      "text/plain": [
       "<matplotlib.image.AxesImage at 0x23a4280a910>"
      ]
     },
     "execution_count": 88,
     "metadata": {},
     "output_type": "execute_result"
    },
    {
     "data": {
      "image/png": "[encoded data removed]",
      "text/plain": [
       "<Figure size 640x480 with 1 Axes>"
      ]
     },
     "metadata": {},
     "output_type": "display_data"
    }
   ],
   "source": [
    "img = dataset[1][0].permute(1, 2, 0)\n",
    "\n",
    "plt.imshow(img)"
   ]
  },
  {
   "cell_type": "code",
   "execution_count": 60,
   "metadata": {},
   "outputs": [
    {
     "data": {
      "text/plain": [
       "tensor([1, 2, 3, 4, 5, 6, 7])"
      ]
     },
     "execution_count": 60,
     "metadata": {},
     "output_type": "execute_result"
    },
    {
     "data": {
      "image/png": "[encoded data removed]",
      "text/plain": [
       "<Figure size 640x480 with 1 Axes>"
      ]
     },
     "metadata": {},
     "output_type": "display_data"
    }
   ],
   "source": [
    "seg = slic(img.numpy(), n_segments=16, compactness=0.5, channel_axis=2)\n",
    "\n",
    "plt.imshow(mark_boundaries(img.numpy(), seg))\n",
    "\n",
    "torch.tensor(seg).unique()"
   ]
  },
  {
   "cell_type": "code",
   "execution_count": 92,
   "metadata": {},
   "outputs": [
    {
     "ename": "ValueError",
     "evalue": "zero-size array to reduction operation maximum which has no identity",
     "output_type": "error",
     "traceback": [
      "\u001b[1;31m---------------------------------------------------------------------------\u001b[0m",
      "\u001b[1;31mValueError\u001b[0m                                Traceback (most recent call last)",
      "Cell \u001b[1;32mIn[92], line 39\u001b[0m\n\u001b[0;32m     34\u001b[0m     g\u001b[38;5;241m.\u001b[39mmasks \u001b[38;5;241m=\u001b[39m [masks[label[\u001b[38;5;241m0\u001b[39m] \u001b[38;5;241m-\u001b[39m \u001b[38;5;241m1\u001b[39m] \u001b[38;5;28;01mfor\u001b[39;00m label \u001b[38;5;129;01min\u001b[39;00m g\u001b[38;5;241m.\u001b[39mlabels]\n\u001b[0;32m     36\u001b[0m     \u001b[38;5;28;01mreturn\u001b[39;00m g\n\u001b[1;32m---> 39\u001b[0m g \u001b[38;5;241m=\u001b[39m \u001b[43mimage_to_SLIC_graph\u001b[49m\u001b[43m(\u001b[49m\u001b[43mdataset\u001b[49m\u001b[43m[\u001b[49m\u001b[38;5;241;43m248\u001b[39;49m\u001b[43m]\u001b[49m\u001b[43m[\u001b[49m\u001b[38;5;241;43m0\u001b[39;49m\u001b[43m]\u001b[49m\u001b[43m,\u001b[49m\u001b[43m \u001b[49m\u001b[43mn_segments\u001b[49m\u001b[38;5;241;43m=\u001b[39;49m\u001b[38;5;241;43m16\u001b[39;49m\u001b[43m,\u001b[49m\u001b[43m \u001b[49m\u001b[43mcompactness\u001b[49m\u001b[38;5;241;43m=\u001b[39;49m\u001b[38;5;241;43m0.001\u001b[39;49m\u001b[43m,\u001b[49m\u001b[43m \u001b[49m\u001b[43msave_img\u001b[49m\u001b[38;5;241;43m=\u001b[39;49m\u001b[38;5;28;43;01mTrue\u001b[39;49;00m\u001b[43m)\u001b[49m\n\u001b[0;32m     40\u001b[0m g\n",
      "Cell \u001b[1;32mIn[92], line 23\u001b[0m, in \u001b[0;36mimage_to_SLIC_graph\u001b[1;34m(img, n_segments, compactness, save_img)\u001b[0m\n\u001b[0;32m     20\u001b[0m reg \u001b[38;5;241m=\u001b[39m regionprops(seg)\n\u001b[0;32m     22\u001b[0m edge_boundary \u001b[38;5;241m=\u001b[39m filters\u001b[38;5;241m.\u001b[39msobel(img_np \u001b[38;5;28;01mif\u001b[39;00m num_channels \u001b[38;5;241m==\u001b[39m \u001b[38;5;241m1\u001b[39m \u001b[38;5;28;01melse\u001b[39;00m np\u001b[38;5;241m.\u001b[39mmean(img_np, axis\u001b[38;5;241m=\u001b[39m\u001b[38;5;241m2\u001b[39m))\n\u001b[1;32m---> 23\u001b[0m nx_g \u001b[38;5;241m=\u001b[39m \u001b[43mgraph\u001b[49m\u001b[38;5;241;43m.\u001b[39;49m\u001b[43mrag_boundary\u001b[49m\u001b[43m(\u001b[49m\u001b[43mseg\u001b[49m\u001b[43m,\u001b[49m\u001b[43m \u001b[49m\u001b[43medge_boundary\u001b[49m\u001b[43m)\u001b[49m\n\u001b[0;32m     25\u001b[0m g \u001b[38;5;241m=\u001b[39m from_networkx(nx_g)\n\u001b[0;32m     26\u001b[0m \u001b[38;5;28;01mif\u001b[39;00m save_img:\n",
      "File \u001b[1;32mc:\\Users\\tudor\\AppData\\Local\\Programs\\Python\\Python311\\Lib\\site-packages\\skimage\\graph\\_rag.py:436\u001b[0m, in \u001b[0;36mrag_boundary\u001b[1;34m(labels, edge_map, connectivity)\u001b[0m\n\u001b[0;32m    434\u001b[0m labels_small \u001b[38;5;241m=\u001b[39m np\u001b[38;5;241m.\u001b[39mconcatenate((eroded[boundaries0], labels[boundaries1]))\n\u001b[0;32m    435\u001b[0m labels_large \u001b[38;5;241m=\u001b[39m np\u001b[38;5;241m.\u001b[39mconcatenate((labels[boundaries0], dilated[boundaries1]))\n\u001b[1;32m--> 436\u001b[0m n \u001b[38;5;241m=\u001b[39m \u001b[43mnp\u001b[49m\u001b[38;5;241;43m.\u001b[39;49m\u001b[43mmax\u001b[49m\u001b[43m(\u001b[49m\u001b[43mlabels_large\u001b[49m\u001b[43m)\u001b[49m \u001b[38;5;241m+\u001b[39m \u001b[38;5;241m1\u001b[39m\n\u001b[0;32m    438\u001b[0m \u001b[38;5;66;03m# use a dummy broadcast array as data for RAG\u001b[39;00m\n\u001b[0;32m    439\u001b[0m ones \u001b[38;5;241m=\u001b[39m np\u001b[38;5;241m.\u001b[39mbroadcast_to(\u001b[38;5;241m1.0\u001b[39m, labels_small\u001b[38;5;241m.\u001b[39mshape)\n",
      "File \u001b[1;32mc:\\Users\\tudor\\AppData\\Local\\Programs\\Python\\Python311\\Lib\\site-packages\\numpy\\core\\fromnumeric.py:2810\u001b[0m, in \u001b[0;36mmax\u001b[1;34m(a, axis, out, keepdims, initial, where)\u001b[0m\n\u001b[0;32m   2692\u001b[0m \u001b[38;5;129m@array_function_dispatch\u001b[39m(_max_dispatcher)\n\u001b[0;32m   2693\u001b[0m \u001b[38;5;129m@set_module\u001b[39m(\u001b[38;5;124m'\u001b[39m\u001b[38;5;124mnumpy\u001b[39m\u001b[38;5;124m'\u001b[39m)\n\u001b[0;32m   2694\u001b[0m \u001b[38;5;28;01mdef\u001b[39;00m \u001b[38;5;21mmax\u001b[39m(a, axis\u001b[38;5;241m=\u001b[39m\u001b[38;5;28;01mNone\u001b[39;00m, out\u001b[38;5;241m=\u001b[39m\u001b[38;5;28;01mNone\u001b[39;00m, keepdims\u001b[38;5;241m=\u001b[39mnp\u001b[38;5;241m.\u001b[39m_NoValue, initial\u001b[38;5;241m=\u001b[39mnp\u001b[38;5;241m.\u001b[39m_NoValue,\n\u001b[0;32m   2695\u001b[0m          where\u001b[38;5;241m=\u001b[39mnp\u001b[38;5;241m.\u001b[39m_NoValue):\n\u001b[0;32m   2696\u001b[0m \u001b[38;5;250m    \u001b[39m\u001b[38;5;124;03m\"\"\"\u001b[39;00m\n\u001b[0;32m   2697\u001b[0m \u001b[38;5;124;03m    Return the maximum of an array or maximum along an axis.\u001b[39;00m\n\u001b[0;32m   2698\u001b[0m \n\u001b[1;32m   (...)\u001b[0m\n\u001b[0;32m   2808\u001b[0m \u001b[38;5;124;03m    5\u001b[39;00m\n\u001b[0;32m   2809\u001b[0m \u001b[38;5;124;03m    \"\"\"\u001b[39;00m\n\u001b[1;32m-> 2810\u001b[0m     \u001b[38;5;28;01mreturn\u001b[39;00m \u001b[43m_wrapreduction\u001b[49m\u001b[43m(\u001b[49m\u001b[43ma\u001b[49m\u001b[43m,\u001b[49m\u001b[43m \u001b[49m\u001b[43mnp\u001b[49m\u001b[38;5;241;43m.\u001b[39;49m\u001b[43mmaximum\u001b[49m\u001b[43m,\u001b[49m\u001b[43m \u001b[49m\u001b[38;5;124;43m'\u001b[39;49m\u001b[38;5;124;43mmax\u001b[39;49m\u001b[38;5;124;43m'\u001b[39;49m\u001b[43m,\u001b[49m\u001b[43m \u001b[49m\u001b[43maxis\u001b[49m\u001b[43m,\u001b[49m\u001b[43m \u001b[49m\u001b[38;5;28;43;01mNone\u001b[39;49;00m\u001b[43m,\u001b[49m\u001b[43m \u001b[49m\u001b[43mout\u001b[49m\u001b[43m,\u001b[49m\n\u001b[0;32m   2811\u001b[0m \u001b[43m                          \u001b[49m\u001b[43mkeepdims\u001b[49m\u001b[38;5;241;43m=\u001b[39;49m\u001b[43mkeepdims\u001b[49m\u001b[43m,\u001b[49m\u001b[43m \u001b[49m\u001b[43minitial\u001b[49m\u001b[38;5;241;43m=\u001b[39;49m\u001b[43minitial\u001b[49m\u001b[43m,\u001b[49m\u001b[43m \u001b[49m\u001b[43mwhere\u001b[49m\u001b[38;5;241;43m=\u001b[39;49m\u001b[43mwhere\u001b[49m\u001b[43m)\u001b[49m\n",
      "File \u001b[1;32mc:\\Users\\tudor\\AppData\\Local\\Programs\\Python\\Python311\\Lib\\site-packages\\numpy\\core\\fromnumeric.py:88\u001b[0m, in \u001b[0;36m_wrapreduction\u001b[1;34m(obj, ufunc, method, axis, dtype, out, **kwargs)\u001b[0m\n\u001b[0;32m     85\u001b[0m         \u001b[38;5;28;01melse\u001b[39;00m:\n\u001b[0;32m     86\u001b[0m             \u001b[38;5;28;01mreturn\u001b[39;00m reduction(axis\u001b[38;5;241m=\u001b[39maxis, out\u001b[38;5;241m=\u001b[39mout, \u001b[38;5;241m*\u001b[39m\u001b[38;5;241m*\u001b[39mpasskwargs)\n\u001b[1;32m---> 88\u001b[0m \u001b[38;5;28;01mreturn\u001b[39;00m \u001b[43mufunc\u001b[49m\u001b[38;5;241;43m.\u001b[39;49m\u001b[43mreduce\u001b[49m\u001b[43m(\u001b[49m\u001b[43mobj\u001b[49m\u001b[43m,\u001b[49m\u001b[43m \u001b[49m\u001b[43maxis\u001b[49m\u001b[43m,\u001b[49m\u001b[43m \u001b[49m\u001b[43mdtype\u001b[49m\u001b[43m,\u001b[49m\u001b[43m \u001b[49m\u001b[43mout\u001b[49m\u001b[43m,\u001b[49m\u001b[43m \u001b[49m\u001b[38;5;241;43m*\u001b[39;49m\u001b[38;5;241;43m*\u001b[39;49m\u001b[43mpasskwargs\u001b[49m\u001b[43m)\u001b[49m\n",
      "\u001b[1;31mValueError\u001b[0m: zero-size array to reduction operation maximum which has no identity"
     ]
    }
   ],
   "source": [
    "def extract_patches(img, seg, reg, num_channels):\n",
    "    imgs, masks, coords = [], [], []\n",
    "    for idx in range(len(reg)):\n",
    "        x_min, y_min, x_max, y_max = reg[idx].bbox\n",
    "        cropped_image = img[:, x_min:x_max, y_min:y_max]\n",
    "        cropped_mask = seg[x_min:x_max, y_min:y_max]\n",
    "        cropped_mask = cropped_mask == idx + 1\n",
    "        imgs.append(cropped_image)\n",
    "        masks.append(cropped_mask)\n",
    "        coords.append(reg[idx].centroid)\n",
    "\n",
    "    return imgs, masks, coords\n",
    "\n",
    "def image_to_SLIC_graph(img, n_segments=14*14, compactness=0.5, save_img=False):\n",
    "    assert type(img) == torch.Tensor and len(img.shape) == 3 and (img.shape[0] == 1 or img.shape[0] == 3)\n",
    "\n",
    "    num_channels = img.shape[0]\n",
    "    img_np = np.array(img.permute(1, 2, 0)) if num_channels == 3 else np.array(img.squeeze(0))\n",
    "    seg = slic(img_np, n_segments=n_segments, compactness=compactness, channel_axis=-1 if num_channels == 3 else None)\n",
    "    reg = regionprops(seg)\n",
    "\n",
    "    edge_boundary = filters.sobel(img_np if num_channels == 1 else np.mean(img_np, axis=2))\n",
    "    nx_g = graph.rag_boundary(seg, edge_boundary)\n",
    "\n",
    "    g = from_networkx(nx_g)\n",
    "    if save_img:\n",
    "        g.img = img_np\n",
    "        g.seg = seg\n",
    "        g.edge_boundary = edge_boundary\n",
    "\n",
    "    imgs, masks, coords = extract_patches(img, seg, reg, num_channels)\n",
    "    g.centroid = torch.Tensor([coords[label[0] - 1] for label in g.labels])\n",
    "    g.imgs = [imgs[label[0] - 1] for label in g.labels]\n",
    "    g.masks = [masks[label[0] - 1] for label in g.labels]\n",
    "\n",
    "    return g\n",
    "\n",
    "\n",
    "g = image_to_SLIC_graph(dataset[248][0], n_segments=16, compactness=0.001, save_img=True)\n",
    "g"
   ]
  },
  {
   "cell_type": "code",
   "execution_count": 87,
   "metadata": {},
   "outputs": [
    {
     "data": {
      "text/plain": [
       "[Data(edge_index=[2, 20], labels=[7, 1], weight=[20], count=[20], num_nodes=7, img=[32, 32, 3], seg=[32, 32], edge_boundary=[32, 32], centroid=[7, 2], imgs=[7, 3, 8, 8], masks=[7])]"
      ]
     },
     "execution_count": 87,
     "metadata": {},
     "output_type": "execute_result"
    }
   ],
   "source": [
    "def resize_stack_slic_graph_patches(data, size):\n",
    "    r = Resize(size)\n",
    "    \n",
    "    for g in data:\n",
    "        g.imgs = [torch.Tensor(img).unsqueeze(0) for img in g.imgs]\n",
    "\n",
    "        g.imgs = [r(img) for img in g.imgs]\n",
    "        g.imgs = torch.cat(g.imgs, dim=0)\n",
    "        \n",
    "        if len(g.imgs.shape) == 3:\n",
    "            g.imgs = g.imgs.unsqueeze(1)\n",
    "    \n",
    "    return data\n",
    "\n",
    "resize_stack_slic_graph_patches([g], (8, 8))"
   ]
  },
  {
   "cell_type": "markdown",
   "metadata": {},
   "source": [
    "# Stats"
   ]
  },
  {
   "cell_type": "code",
   "execution_count": 4,
   "metadata": {},
   "outputs": [
    {
     "data": {
      "text/plain": [
       "dict_keys(['train_accs', 'val_accs', 'test_accs', 'train_losses', 'val_losses', 'test_losses'])"
      ]
     },
     "execution_count": 4,
     "metadata": {},
     "output_type": "execute_result"
    }
   ],
   "source": [
    "import pickle\n",
    "import os\n",
    "import numpy as np\n",
    "\n",
    "path_name = \"../data/models/vit_cifar100/\"\n",
    "\n",
    "res = []\n",
    "for file_name in os.listdir(path_name):\n",
    "    res.append(pickle.load(open(path_name + file_name, \"rb\")))\n",
    "\n",
    "res[0].keys()"
   ]
  },
  {
   "cell_type": "code",
   "execution_count": 6,
   "metadata": {},
   "outputs": [
    {
     "data": {
      "text/plain": [
       "1"
      ]
     },
     "execution_count": 6,
     "metadata": {},
     "output_type": "execute_result"
    }
   ],
   "source": [
    "len(res)"
   ]
  },
  {
   "cell_type": "code",
   "execution_count": 7,
   "metadata": {},
   "outputs": [],
   "source": [
    "def get_test_acc(res):\n",
    "    min_val_loss, test = float(\"inf\"), 0\n",
    "    \n",
    "    for i in range(len(res[\"val_losses\"])):\n",
    "        if res[\"val_losses\"][i] < min_val_loss:\n",
    "            test = res[\"test_accs\"][i]\n",
    "            min_val_loss = res[\"val_losses\"][i]\n",
    "            \n",
    "    return test\n",
    "\n",
    "test_accs = np.array([get_test_acc(r) for r in res])\n",
    "test_accs = {\n",
    "    \"vit\": np.array([30.9,30.9,30.9,30.0,30.8,31.5,30.8,31.1,31.6,31.3,29.4]),\n",
    "    \"coordvit\": np.array([30.7,31.2,31.9,31.6,30.2,31.7,31.7,31.5,31.7])\n",
    "}"
   ]
  },
  {
   "cell_type": "code",
   "execution_count": 8,
   "metadata": {},
   "outputs": [
    {
     "name": "stdout",
     "output_type": "stream",
     "text": [
      "vit 30.836363636363636 0.6094300277125231\n",
      "coordvit 31.355555555555554 0.5293835222031821\n"
     ]
    }
   ],
   "source": [
    "print(\"vit\", test_accs[\"vit\"].mean(), test_accs[\"vit\"].std())\n",
    "print(\"coordvit\", test_accs[\"coordvit\"].mean(), test_accs[\"coordvit\"].std())"
   ]
  },
  {
   "cell_type": "markdown",
   "metadata": {},
   "source": [
    "# Pooling for nodification"
   ]
  },
  {
   "cell_type": "code",
   "execution_count": 23,
   "metadata": {},
   "outputs": [],
   "source": [
    "dataset = pickle.load(open(\"../data/image/CIFAR100/CIFAR_SLIC_graph_32_16_15.pkl\", \"rb\"))"
   ]
  },
  {
   "cell_type": "code",
   "execution_count": 24,
   "metadata": {},
   "outputs": [
    {
     "data": {
      "text/plain": [
       "torch.Size([3, 15, 29])"
      ]
     },
     "execution_count": 24,
     "metadata": {},
     "output_type": "execute_result"
    }
   ],
   "source": [
    "dataset[0].imgs[0].shape"
   ]
  },
  {
   "cell_type": "code",
   "execution_count": 21,
   "metadata": {},
   "outputs": [
    {
     "ename": "TypeError",
     "evalue": "sum() received an invalid combination of arguments - got (numpy.ndarray, dim=tuple), but expected one of:\n * (Tensor input, *, torch.dtype dtype)\n * (Tensor input, tuple of ints dim, bool keepdim, *, torch.dtype dtype, Tensor out)\n * (Tensor input, tuple of names dim, bool keepdim, *, torch.dtype dtype, Tensor out)\n",
     "output_type": "error",
     "traceback": [
      "\u001b[1;31m---------------------------------------------------------------------------\u001b[0m",
      "\u001b[1;31mTypeError\u001b[0m                                 Traceback (most recent call last)",
      "Cell \u001b[1;32mIn[21], line 22\u001b[0m\n\u001b[0;32m     18\u001b[0m         g\u001b[38;5;241m.\u001b[39mimgs \u001b[38;5;241m=\u001b[39m torch\u001b[38;5;241m.\u001b[39mcat(g\u001b[38;5;241m.\u001b[39mimgs, dim\u001b[38;5;241m=\u001b[39m\u001b[38;5;241m0\u001b[39m)\n\u001b[0;32m     20\u001b[0m     \u001b[38;5;28;01mreturn\u001b[39;00m data\n\u001b[1;32m---> 22\u001b[0m \u001b[43mavgpool_stack_slic_graph_patches\u001b[49m\u001b[43m(\u001b[49m\u001b[43mdataset\u001b[49m\u001b[43m[\u001b[49m\u001b[43m:\u001b[49m\u001b[38;5;241;43m5\u001b[39;49m\u001b[43m]\u001b[49m\u001b[43m)\u001b[49m[\u001b[38;5;241m0\u001b[39m]\n",
      "Cell \u001b[1;32mIn[21], line 17\u001b[0m, in \u001b[0;36mavgpool_stack_slic_graph_patches\u001b[1;34m(data)\u001b[0m\n\u001b[0;32m     15\u001b[0m \u001b[38;5;28;01mfor\u001b[39;00m g \u001b[38;5;129;01min\u001b[39;00m data:\n\u001b[0;32m     16\u001b[0m     \u001b[38;5;28;01mfor\u001b[39;00m i \u001b[38;5;129;01min\u001b[39;00m \u001b[38;5;28mrange\u001b[39m(\u001b[38;5;28mlen\u001b[39m(g\u001b[38;5;241m.\u001b[39mimgs)):\n\u001b[1;32m---> 17\u001b[0m         g\u001b[38;5;241m.\u001b[39mimgs[i] \u001b[38;5;241m=\u001b[39m torch\u001b[38;5;241m.\u001b[39msum(g\u001b[38;5;241m.\u001b[39mimgs[i] \u001b[38;5;241m*\u001b[39m g\u001b[38;5;241m.\u001b[39mmasks[i], dim\u001b[38;5;241m=\u001b[39m(\u001b[38;5;241m1\u001b[39m, \u001b[38;5;241m2\u001b[39m)) \u001b[38;5;241m/\u001b[39m \u001b[43mtorch\u001b[49m\u001b[38;5;241;43m.\u001b[39;49m\u001b[43msum\u001b[49m\u001b[43m(\u001b[49m\u001b[43mg\u001b[49m\u001b[38;5;241;43m.\u001b[39;49m\u001b[43mmasks\u001b[49m\u001b[43m[\u001b[49m\u001b[43mi\u001b[49m\u001b[43m]\u001b[49m\u001b[43m,\u001b[49m\u001b[43m \u001b[49m\u001b[43mdim\u001b[49m\u001b[38;5;241;43m=\u001b[39;49m\u001b[43m(\u001b[49m\u001b[38;5;241;43m1\u001b[39;49m\u001b[43m,\u001b[49m\u001b[43m \u001b[49m\u001b[38;5;241;43m2\u001b[39;49m\u001b[43m)\u001b[49m\u001b[43m)\u001b[49m\n\u001b[0;32m     18\u001b[0m     g\u001b[38;5;241m.\u001b[39mimgs \u001b[38;5;241m=\u001b[39m torch\u001b[38;5;241m.\u001b[39mcat(g\u001b[38;5;241m.\u001b[39mimgs, dim\u001b[38;5;241m=\u001b[39m\u001b[38;5;241m0\u001b[39m)\n\u001b[0;32m     20\u001b[0m \u001b[38;5;28;01mreturn\u001b[39;00m data\n",
      "\u001b[1;31mTypeError\u001b[0m: sum() received an invalid combination of arguments - got (numpy.ndarray, dim=tuple), but expected one of:\n * (Tensor input, *, torch.dtype dtype)\n * (Tensor input, tuple of ints dim, bool keepdim, *, torch.dtype dtype, Tensor out)\n * (Tensor input, tuple of names dim, bool keepdim, *, torch.dtype dtype, Tensor out)\n"
     ]
    }
   ],
   "source": [
    "def resize_stack_slic_graph_patches(data, size):\n",
    "    r = Resize(size)\n",
    "\n",
    "    for g in data:\n",
    "        for i in range(len(g.imgs)):\n",
    "            g.imgs[i] = (torch.Tensor(g.imgs[i] * g.masks[i]) / torch.sum(g.masks[i], dim=(0, 1))).unsqueeze(0)\n",
    "        # g.imgs = [torch.Tensor(g.imgs[i] * g.masks[i]).unsqueeze(0) for i in range(len(g.imgs))] \n",
    "        g.imgs = [r(img) for img in g.imgs]\n",
    "        g.imgs = torch.cat(g.imgs, dim=0)\n",
    "\n",
    "        if len(g.imgs.shape) == 3:\n",
    "            g.imgs = g.imgs.unsqueeze(1)\n",
    "\n",
    "    return data\n",
    "\n",
    "def avgpool_stack_slic_graph_patches(data):\n",
    "    for g in data:\n",
    "        for i in range(len(g.imgs)):\n",
    "            g.imgs[i] = (torch.Tensor(g.imgs[i] * g.masks[i]) / torch.sum(g.masks[i], dim=(0, 1))).unsqueeze(0)\n",
    "        g.imgs = [r(img) for img in g.imgs]\n",
    "        g.imgs = torch.cat(g.imgs, dim=0)\n",
    "\n",
    "        if len(g.imgs.shape) == 3:\n",
    "            g.imgs = g.imgs.unsqueeze(1)\n",
    "\n",
    "    return data\n",
    "    \n",
    "    for g in data:\n",
    "        for i in range(len(g.imgs)):\n",
    "            g.imgs[i] = torch.sum(g.imgs[i] * g.masks[i], dim=(1, 2)) / torch.sum(g.masks[i], dim=(1, 2))\n",
    "        g.imgs = torch.cat(g.imgs, dim=0)\n",
    "\n",
    "    return data\n",
    "\n",
    "avgpool_stack_slic_graph_patches(dataset[:5])"
   ]
  },
  {
   "cell_type": "code",
   "execution_count": null,
   "metadata": {},
   "outputs": [],
   "source": []
  }
 ],
 "metadata": {
  "kernelspec": {
   "display_name": "Python 3",
   "language": "python",
   "name": "python3"
  },
  "language_info": {
   "codemirror_mode": {
    "name": "ipython",
    "version": 3
   },
   "file_extension": ".py",
   "mimetype": "text/x-python",
   "name": "python",
   "nbconvert_exporter": "python",
   "pygments_lexer": "ipython3",
   "version": "3.11.7"
  }
 },
 "nbformat": 4,
 "nbformat_minor": 2
}
